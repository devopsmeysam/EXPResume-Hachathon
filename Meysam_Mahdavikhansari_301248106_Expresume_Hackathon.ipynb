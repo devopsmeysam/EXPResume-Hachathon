{
  "nbformat": 4,
  "nbformat_minor": 0,
  "metadata": {
    "colab": {
      "provenance": [],
      "include_colab_link": true
    },
    "kernelspec": {
      "name": "python3",
      "display_name": "Python 3"
    },
    "language_info": {
      "name": "python"
    }
  },
  "cells": [
    {
      "cell_type": "markdown",
      "metadata": {
        "id": "view-in-github",
        "colab_type": "text"
      },
      "source": [
        "<a href=\"https://colab.research.google.com/github/devopsmeysam/EXPResume-Hachathon/blob/master/Meysam_Mahdavikhansari_301248106_Expresume_Hackathon.ipynb\" target=\"_parent\"><img src=\"https://colab.research.google.com/assets/colab-badge.svg\" alt=\"Open In Colab\"/></a>"
      ]
    },
    {
      "cell_type": "markdown",
      "source": [
        "There are at least 4 steps involved in building a system that can receive a resume in .docx or .pdf format and analyze it to check if it complies with a job posting:\n",
        "\n",
        "1. File upload and parsing: The first step is to allow the user to upload their resume in either .docx or .pdf format. Once the file is uploaded, the back-end system should be able to parse the file and extract the relevant information such as the candidate's name, contact information, work experience, skills, and education. (A)\n",
        "\n",
        "2. Job posting matching: The next step is to compare the information extracted from the resume with the requirements of the job posting. The back-end system should have access to a database of job postings with their respective requirements. The system should be able to match the candidate's skills, work experience, and education with the job posting requirements. (B)\n",
        "\n",
        "3. Evaluation: Once the system has matched the candidate's information with the job posting requirements, it should generate an evaluation report. The evaluation report should highlight the areas where the candidate meets the job requirements and areas where they fall short. The evaluation report can also provide suggestions for improvement. (C-D)\n",
        "\n",
        "4. Feedback: Finally, the system should provide feedback to the user on their resume. The feedback can include suggestions on how to improve the resume to increase their chances of getting the job. (E-G)"
      ],
      "metadata": {
        "id": "Ztc29WETUfi5"
      }
    },
    {
      "cell_type": "markdown",
      "source": [
        "A. The first step of file upload and parsing using Flask:"
      ],
      "metadata": {
        "id": "_wpa05Zibe3j"
      }
    },
    {
      "cell_type": "code",
      "execution_count": null,
      "metadata": {
        "id": "MA0lh6EdUYzS"
      },
      "outputs": [],
      "source": [
        "from flask import Flask, request\n",
        "from werkzeug.utils import secure_filename\n",
        "import textract\n",
        "\n",
        "#Create a new Flask application with the name of this module:\n",
        "app = Flask(__name__)\n",
        "#Define a route to handle the uploaded file:\n",
        "@app.route('/upload', methods=['POST'])\n",
        "def upload_file():\n",
        "#Check if the POST contains any files with the key 'resume':\n",
        "    if 'resume' not in request.files:\n",
        "        return 'No file part'\n",
        "#Retrieve the uploaded file from the request:\n",
        "    file = request.files['resume']\n",
        "\n",
        "#If the file exists and has a name, save it to the server and extract its text contents:\n",
        "    if file.filename == '':\n",
        "        return 'No selected file'\n",
        "\n",
        "    if file:\n",
        "        filename = secure_filename(file.filename)\n",
        "        file.save(filename)\n",
        "        text = textract.process(filename).decode('utf-8')\n",
        "#Further processing on the extracted text, e.g. comparing to job posting:\n",
        "        return 'File uploaded successfully'\n",
        "#Run the app if this script is executed as the main program:\n",
        "if __name__ == '__main__':\n",
        "    app.run(debug=True)"
      ]
    },
    {
      "cell_type": "markdown",
      "source": [
        "B. The next step will be to match the information extracted from the resume with the requirements of the job posting. Here's my Python code that uses a simple keyword matching approach to match the candidate's skills and experience with the job requirements:"
      ],
      "metadata": {
        "id": "4UNPE3arXUCF"
      }
    },
    {
      "cell_type": "code",
      "source": [
        "#Define job requirements as a dictionary with required skills and experience:\n",
        "job_requirements = {\n",
        "    'skills': ['python', 'machine learning', 'data analysis'],\n",
        "    'experience': '2+ years'\n",
        "}\n",
        "\n",
        "#Define a dictionary representing the candidate's skills and experience based on what was extracted from their resume:\n",
        "candidate_info = {\n",
        "    'skills': ['python', 'data analysis', 'web development'],\n",
        "    'experience': '3 years'\n",
        "}\n",
        "\n",
        "#Find the intersections between the candidate's skills and the required job skills:\n",
        "matched_skills = list(set(job_requirements['skills']).intersection(candidate_info['skills']))\n",
        "\n",
        "#Check if the candidate's experience meets (or exceeds) the required amount of akills on the job posting:\n",
        "if candidate_info['experience'] >= job_requirements['experience']:\n",
        "    print('Candidate meets the job requirements')\n",
        "else:\n",
        "    print('Candidate does not meet the job requirements')\n",
        "\n",
        "#Print the matched skills:\n",
        "print('Matched skills:', matched_skills)"
      ],
      "metadata": {
        "id": "hztC5FARWgEB",
        "colab": {
          "base_uri": "https://localhost:8080/"
        },
        "outputId": "bade8b27-8f7a-4079-bb9c-5c619d1f859c"
      },
      "execution_count": null,
      "outputs": [
        {
          "output_type": "stream",
          "name": "stdout",
          "text": [
            "Candidate meets the job requirements\n",
            "Matched skills: ['data analysis', 'python']\n"
          ]
        }
      ]
    },
    {
      "cell_type": "markdown",
      "source": [
        "C. The next step is to generate an evaluation report that highlights the areas where the candidate meets the job requirements and areas where they fall short. Here's my Python code that generates a simple evaluation report based on the candidate's skills and experience:"
      ],
      "metadata": {
        "id": "RPSsaPUeW0vV"
      }
    },
    {
      "cell_type": "code",
      "source": [
        "#Define job requirements as a dictionary with required skills and experience:\n",
        "job_requirements = {\n",
        "    'skills': ['python', 'machine learning', 'data analysis'],\n",
        "    'experience': '2+ years'\n",
        "}\n",
        "\n",
        "#Define a dictionary representing the candidate's skills and experience based on what was extracted from their resume:\n",
        "candidate_info = {\n",
        "    'skills': ['python', 'data analysis', 'web development'],\n",
        "    'experience': '3 years'\n",
        "}\n",
        "\n",
        "#Find the intersection of the candidate's skills with the required job's skills:\n",
        "matched_skills = list(set(job_requirements['skills']).intersection(candidate_info['skills']))\n",
        "\n",
        "#Check if the candidate meets the job requirements based on the experience in their Resume:\n",
        "if candidate_info['experience'] >= job_requirements['experience']:\n",
        "    meets_requirements = True\n",
        "else:\n",
        "    meets_requirements = False\n",
        "\n",
        "#Generate an evaluation report for summarizing the candidate's qualifications:\n",
        "evaluation_report = f\"Candidate {'meets' if meets_requirements else 'does not meet'} the job requirements.\\n\"\n",
        "evaluation_report += f\"Matched skills: {matched_skills}\\n\"\n",
        "evaluation_report += f\"Candidate's experience: {candidate_info['experience']}\\n\"\n",
        "evaluation_report += f\"Job requirements experience: {job_requirements['experience']}\\n\"\n",
        "\n",
        "#Print the evaluation report:\n",
        "print(evaluation_report)"
      ],
      "metadata": {
        "id": "JUAXASDZW2J2"
      },
      "execution_count": null,
      "outputs": []
    },
    {
      "cell_type": "markdown",
      "source": [
        "D. The next step would be to store the candidate's information and evaluation results in a database or file for future reference. This will allow our system to track and compare candidates over time:"
      ],
      "metadata": {
        "id": "IBYISyyeXHJb"
      }
    },
    {
      "cell_type": "code",
      "source": [
        "import sqlite3\n",
        "\n",
        "#Establishing a connection to resumes' database:\n",
        "conn = sqlite3.connect('resumes.db')\n",
        "\n",
        "#Create the table to store resumes' data:\n",
        "conn.execute('''CREATE TABLE IF NOT EXISTS resumes\n",
        "             (id INTEGER PRIMARY KEY AUTOINCREMENT,\n",
        "             name TEXT,\n",
        "             skills TEXT,\n",
        "             experience TEXT,\n",
        "             evaluation TEXT);''')\n",
        "\n",
        "#Insert the candidate's information along with the evaluation results into the table:\n",
        "name = 'John Doe'\n",
        "skills = ', '.join(candidate_info['skills'])\n",
        "experience = candidate_info['experience']\n",
        "evaluation = evaluation_report\n",
        "conn.execute(\"INSERT INTO resumes (name, skills, experience, evaluation) VALUES (?, ?, ?, ?)\",\n",
        "            (name, skills, experience, evaluation))\n",
        "conn.commit()\n",
        "\n",
        "#Close the database's connection:\n",
        "conn.close()"
      ],
      "metadata": {
        "id": "9GAiqgGjW6SJ"
      },
      "execution_count": null,
      "outputs": []
    },
    {
      "cell_type": "markdown",
      "source": [
        "E. In the subsequent step, I used machine learning (natural language processing techniques) to match the candidate's information with the job posting requirements more accurately. This will allow us to provide more detailed and specific feedback to the candidate. I used Python + scikit-learn library to train a machine learning model for matching resumes with job postings:"
      ],
      "metadata": {
        "id": "Y_SY1cKAXmNX"
      }
    },
    {
      "cell_type": "code",
      "source": [
        "from sklearn.feature_extraction.text import CountVectorizer\n",
        "from sklearn.naive_bayes import MultinomialNB\n",
        "#Define the required skills and experience for a job posting:\n",
        "job_requirements = {\n",
        "    'skills': ['python', 'machine learning', 'data analysis'],\n",
        "    'experience': '2+ years'\n",
        "}\n",
        "\n",
        "#Extract the skills & experience from the candidate's resume:\n",
        "candidate_info = {\n",
        "    'skills': ['python', 'data analysis', 'web development'],\n",
        "    'experience': '3 years'\n",
        "}\n",
        "\n",
        "#Convert job requirements & candidate's information into text for our machine learning model:\n",
        "job_description = ' '.join(job_requirements['skills'])\n",
        "candidate_resume = ' '.join(candidate_info['skills'])\n",
        "\n",
        "#Training a machine learning model to match resumes with the job postings:\n",
        "vectorizer = CountVectorizer()\n",
        "X = vectorizer.fit_transform([job_description, candidate_resume])\n",
        "y = ['job posting', 'candidate']\n",
        "clf = MultinomialNB()\n",
        "clf.fit(X, y)\n",
        "\n",
        "#Predict the possible label for our candidate's resume:\n",
        "X_test = vectorizer.transform([candidate_resume])\n",
        "y_pred = clf.predict(X_test)\n",
        "\n",
        "#Generate an evaluation report based on our predicted label:\n",
        "if y_pred[0] == 'candidate':\n",
        "    evaluation_report = 'Candidate meets the job requirements.'\n",
        "else:\n",
        "    evaluation_report = 'Candidate does not meet the job requirements.'\n",
        "\n",
        "#Print the final evaluation report:\n",
        "print(evaluation_report)"
      ],
      "metadata": {
        "id": "_Tr_EPGdXrrn"
      },
      "execution_count": null,
      "outputs": []
    },
    {
      "cell_type": "markdown",
      "source": [
        "F. In this step, I used the Flask library to integrate the Back End with a Front End user interface to allow users to upload their resumes and view the evaluation results in a user-friendly way:"
      ],
      "metadata": {
        "id": "kN_GTs37X07A"
      }
    },
    {
      "cell_type": "code",
      "source": [
        "from flask import Flask, render_template, request\n",
        "import os\n",
        "\n",
        "app = Flask(__name__)\n",
        "#Define an index route for the web app:\n",
        "@app.route('/')\n",
        "def index():\n",
        "    return render_template('index.html')\n",
        "\n",
        "#Define a upload route for the web app:\n",
        "@app.route('/upload', methods=['POST'])\n",
        "def upload():\n",
        "#Get the uploaded file from the request object:\n",
        "    file = request.files['resume']\n",
        "\n",
        "#Save our uploaded file to a disk:\n",
        "    filename = file.filename\n",
        "    file.save(os.path.join(app.config['UPLOAD_FOLDER'], filename))\n",
        "\n",
        "#Process the uploaded file and generate an evaluation report:\n",
        "    candidate_info, evaluation_report = process_resume(os.path.join(app.config['UPLOAD_FOLDER'], filename))\n",
        "\n",
        "#Render the evaluation report in a template and return it to our user:\n",
        "    return render_template('results.html', candidate_info=candidate_info, evaluation_report=evaluation_report)\n",
        "\n",
        "if __name__ == '__main__':\n",
        "#Set uploads folder for storing the uploaded resumes:\n",
        "    app.config['UPLOAD_FOLDER'] = 'uploads'\n",
        "#Run the web app in the debug mode:\n",
        "    app.run(debug=True)"
      ],
      "metadata": {
        "id": "DCkfX2GdX3mU"
      },
      "execution_count": null,
      "outputs": []
    },
    {
      "cell_type": "markdown",
      "source": [
        "G. As the Final step in implementation of such a web application, I suggest a program unit to Add email notifications to inform the candidate of their evaluation results:"
      ],
      "metadata": {
        "id": "jSa9QN4bYA3S"
      }
    },
    {
      "cell_type": "code",
      "source": [
        "import smtplib\n",
        "from email.mime.text import MIMEText\n",
        "\n",
        "def send_email(to, subject, body):\n",
        "#Configure the SMTP server and our login credentials:\n",
        "    smtp_server = 'smtp.gmail.com'\n",
        "    smtp_port = 587\n",
        "    smtp_username = 'your_email@gmail.com'\n",
        "    smtp_password = 'your_password'\n",
        "\n",
        "#Create the intended email message:\n",
        "    msg = MIMEText(body)\n",
        "    msg['To'] = to\n",
        "    msg['Subject'] = subject\n",
        "    msg['From'] = smtp_username\n",
        "\n",
        "#Send the email using the pre-defined SMTP server:\n",
        "    with smtplib.SMTP(smtp_server, smtp_port) as server:\n",
        "#Start a TLS session:\n",
        "\n",
        "        server.starttls()\n",
        "#Login to the SMTP server:\n",
        "\n",
        "        server.login(smtp_username, smtp_password)\n",
        "#Send the email message:\n",
        "\n",
        "        server.sendmail(smtp_username, to, msg.as_string())\n",
        "\n",
        "#Send the email notification to the candidate with their evaluation results which is really great:\n",
        "to = 'candidate_email@gmail.com'\n",
        "subject = 'Your resume evaluation results'\n",
        "body = evaluation_report\n",
        "send_email(to, subject, body)"
      ],
      "metadata": {
        "id": "XfvICFzqYB-T"
      },
      "execution_count": null,
      "outputs": []
    },
    {
      "cell_type": "markdown",
      "source": [
        "At the end, please consider this as a sample for the BE of the Webapp. I wish I had some teammates to make it more complex however, that was what I could do during the Hackathon. Thanks for giving me this upportunity to express my ideas as a newbie in the field of BE.\n",
        "\n",
        "Sincerely Yours,\n",
        "\n",
        "Meysam Mahdavikhansari\n",
        "\n",
        "Centennial Student ID: 301248106"
      ],
      "metadata": {
        "id": "RiGn0Qq85sK-"
      }
    }
  ]
}